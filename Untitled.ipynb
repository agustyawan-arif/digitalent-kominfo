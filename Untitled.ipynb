{
 "cells": [
  {
   "cell_type": "markdown",
   "metadata": {},
   "source": [
    "## Menyimpan data ke dalam variabel kemudian menampilkannya"
   ]
  },
  {
   "cell_type": "code",
   "execution_count": 39,
   "metadata": {},
   "outputs": [],
   "source": [
    "nik = 3304200508990001\n",
    "nama = 'Arif Agustyawan'\n",
    "tempat = 'Banjarnegara'\n",
    "tanggal = '05-08-1999'\n",
    "jk = 'Laki-laki'\n",
    "alamat = 'Gunungjati'\n",
    "rt = '001'\n",
    "rw = '004'\n",
    "desa = 'Gunungjati'\n",
    "kecamatan = 'Pagedongan'\n",
    "agama = 'Islam'\n",
    "status = 'Belum Kawin'\n",
    "pekerjaan = 'Pelajar/Mahasiswa'\n",
    "kewarganegaraan = 'WNI'\n",
    "laku = 'Seumur Hidup'"
   ]
  },
  {
   "cell_type": "code",
   "execution_count": 49,
   "metadata": {},
   "outputs": [
    {
     "name": "stdout",
     "output_type": "stream",
     "text": [
      "               PROVINSI JAWA TENGAH               \n",
      "              KABUPATEN BANJARNEGARA              \n",
      "\n",
      "NIK\t\t\t:  3304200508990001\n",
      "Nama\t\t\t:  Arif Agustyawan\n",
      "Tempat/Tgl Lahir\t:  Banjarnegara 05-08-1999\n",
      "Jenis Kelamin\t\t:  Laki-laki\n",
      "Alamat\t\t\t:  Gunungjati\n",
      "\tRT/RW\t\t:  001 / 004\n",
      "\tKel/desa\t:  Gunungjati\n",
      "\tKecamatan\t:  Pagedongan\n",
      "Agama\t\t\t:  Islam\n",
      "Status Perkawainan\t:  Belum Kawin\n",
      "Pekerjaan\t\t:  Pelajar/Mahasiswa \t\t\tBanjarnegara\n",
      "Kewarganegaraan\t\t:  WNI \t\t\t\t\t19-02-2019\n",
      "Berlaku Hingga\t\t:  Seumur Hidup\n"
     ]
    }
   ],
   "source": [
    "h1 = 'PROVINSI JAWA TENGAH'\n",
    "h2 = 'KABUPATEN BANJARNEGARA'\n",
    "print(h1.center(50,' '))\n",
    "print(h2.center(50,' '))\n",
    "print ('\\nNIK\\t\\t\\t: ', nik)\n",
    "print ('Nama\\t\\t\\t: ', nama)\n",
    "print ('Tempat/Tgl Lahir\\t: ', tempat, tanggal)\n",
    "print ('Jenis Kelamin\\t\\t: ', jk)\n",
    "print ('Alamat\\t\\t\\t: ', alamat)\n",
    "print ('\\tRT/RW\\t\\t: ', rt, '/', rw)\n",
    "print ('\\tKel/desa\\t: ', desa)\n",
    "print ('\\tKecamatan\\t: ', kecamatan)\n",
    "print ('Agama\\t\\t\\t: ', agama)\n",
    "print ('Status Perkawainan\\t: ', status)\n",
    "print ('Pekerjaan\\t\\t: ', pekerjaan, '\\t\\t\\tBanjarnegara')\n",
    "print ('Kewarganegaraan\\t\\t: ', kewarganegaraan, '\\t\\t\\t\\t\\t19-02-2019')\n",
    "print ('Berlaku Hingga\\t\\t: ', laku)"
   ]
  },
  {
   "cell_type": "markdown",
   "metadata": {},
   "source": [
    "## Menampilkan datanya langsung tanpa menyimpannya ke variabel"
   ]
  },
  {
   "cell_type": "code",
   "execution_count": 51,
   "metadata": {},
   "outputs": [
    {
     "name": "stdout",
     "output_type": "stream",
     "text": [
      "               PROVINSI JAWA TENGAH               \n",
      "              KABUPATEN BANJARNEGARA              \n",
      "\n",
      "NIK\t\t\t: 3304200508990001\n",
      "Nama\t\t\t: Arif Agustyawan\n",
      "Tempat/Tgl Lahir\t: Banjarnegara, 05-08-1999\n",
      "Jenis Kelamin\t\t: Laki-Laki\n",
      "Alamat\t\t\t: Gunungjati\n",
      "\tRT/RW\t\t: 1 / 4\n",
      "\tKel/desa\t: Gunungjati\n",
      "\tKecamatan\t: Pagedongan\n",
      "Agama\t\t\t: Islam\n",
      "Status Perkawainan\t: Belum Kawin\n",
      "Pekerjaan\t\t: Pelajar/Mahasiswa\t\t\tBanjarnegara\n",
      "Kewarganegaraan\t\t: WNI\t\t\t\t\t19-02-2019\n",
      "Berlaku Hingga\t\t: Seumur Hidup\n"
     ]
    }
   ],
   "source": [
    "h1 = 'PROVINSI JAWA TENGAH'\n",
    "h2 = 'KABUPATEN BANJARNEGARA'\n",
    "print(h1.center(50,' '))\n",
    "print(h2.center(50,' '))\n",
    "print ('\\nNIK\\t\\t\\t:', 3304200508990001)\n",
    "print ('Nama\\t\\t\\t: Arif Agustyawan')\n",
    "print ('Tempat/Tgl Lahir\\t: Banjarnegara, 05-08-1999')\n",
    "print ('Jenis Kelamin\\t\\t: Laki-Laki')\n",
    "print ('Alamat\\t\\t\\t: Gunungjati')\n",
    "print ('\\tRT/RW\\t\\t:', 1, '/', 4)\n",
    "print ('\\tKel/desa\\t: Gunungjati')\n",
    "print ('\\tKecamatan\\t: Pagedongan')\n",
    "print ('Agama\\t\\t\\t: Islam')\n",
    "print ('Status Perkawainan\\t: Belum Kawin')\n",
    "print ('Pekerjaan\\t\\t: Pelajar/Mahasiswa\\t\\t\\tBanjarnegara')\n",
    "print ('Kewarganegaraan\\t\\t: WNI\\t\\t\\t\\t\\t19-02-2019')\n",
    "print ('Berlaku Hingga\\t\\t: Seumur Hidup')"
   ]
  }
 ],
 "metadata": {
  "kernelspec": {
   "display_name": "Python 3",
   "language": "python",
   "name": "python3"
  },
  "language_info": {
   "codemirror_mode": {
    "name": "ipython",
    "version": 3
   },
   "file_extension": ".py",
   "mimetype": "text/x-python",
   "name": "python",
   "nbconvert_exporter": "python",
   "pygments_lexer": "ipython3",
   "version": "3.7.3"
  }
 },
 "nbformat": 4,
 "nbformat_minor": 4
}
